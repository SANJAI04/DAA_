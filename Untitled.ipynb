{
 "cells": [
  {
   "cell_type": "code",
   "execution_count": 1,
   "id": "21ed1fbe",
   "metadata": {},
   "outputs": [],
   "source": [
    "import numpy as np\n",
    "import pandas as pd\n",
    "import matplotlib.pyplot as plt\n",
    "import seaborn as sns\n",
    "import random"
   ]
  },
  {
   "cell_type": "code",
   "execution_count": 3,
   "id": "cedf1a0e",
   "metadata": {},
   "outputs": [],
   "source": [
    "df = pd.read_csv(\"C:/Users/sanja/Downloads/Bank_Personal_Loan_Modelling.csv\")"
   ]
  },
  {
   "cell_type": "code",
   "execution_count": 5,
   "id": "612b8f8c",
   "metadata": {},
   "outputs": [
    {
     "name": "stdout",
     "output_type": "stream",
     "text": [
      "[ 1 19 15  9  8 13 27 24 10 39  5 23 32 41 30 14 18 21 28 31 11 16 20 35\n",
      "  6 25  7 12 26 37 17  2 36 29  3 22 -1 34  0 38 40 33  4 -2 42 -3 43]\n"
     ]
    }
   ],
   "source": [
    "print(df[\"Experience\"].unique())\n",
    "df[\"Experience\"] = abs(df[\"Experience\"])"
   ]
  },
  {
   "cell_type": "code",
   "execution_count": 6,
   "id": "7154461c",
   "metadata": {},
   "outputs": [],
   "source": [
    "df = df[['Age', 'Experience', 'Income', 'Family', 'CCAvg','Education', 'Mortgage', 'Securities Account','CD Account', 'Online', 'CreditCard', 'Personal Loan']]"
   ]
  },
  {
   "cell_type": "code",
   "execution_count": 7,
   "id": "b2a9755c",
   "metadata": {},
   "outputs": [],
   "source": [
    "X = df.iloc[:,:-1].values\n",
    "Y = df.iloc[:,-1].values"
   ]
  },
  {
   "cell_type": "code",
   "execution_count": 8,
   "id": "1d5a219f",
   "metadata": {},
   "outputs": [],
   "source": [
    "x,y = X,Y"
   ]
  },
  {
   "cell_type": "code",
   "execution_count": 9,
   "id": "426857f5",
   "metadata": {},
   "outputs": [],
   "source": [
    "from sklearn.model_selection import train_test_split\n",
    "X_train, X_test, y_train, y_test = train_test_split(X, y, test_size=0.2, random_state=42)"
   ]
  },
  {
   "cell_type": "code",
   "execution_count": 12,
   "id": "f43cf94b",
   "metadata": {},
   "outputs": [],
   "source": [
    "from sklearn.preprocessing import StandardScaler\n",
    "\n",
    "sc = StandardScaler()\n",
    "X_train = sc.fit_transform(X_train)\n",
    "X_test = sc.transform(X_test)"
   ]
  },
  {
   "cell_type": "code",
   "execution_count": 13,
   "id": "c3c43cfe",
   "metadata": {},
   "outputs": [
    {
     "data": {
      "text/plain": [
       "((4000, 11), (4000,))"
      ]
     },
     "execution_count": 13,
     "metadata": {},
     "output_type": "execute_result"
    }
   ],
   "source": [
    "X_train.shape, y_train.shape"
   ]
  },
  {
   "cell_type": "code",
   "execution_count": 14,
   "id": "c6ed5e0f",
   "metadata": {},
   "outputs": [],
   "source": [
    "import torch\n",
    "from torch.utils.data import DataLoader, TensorDataset"
   ]
  },
  {
   "cell_type": "code",
   "execution_count": 15,
   "id": "f40a743d",
   "metadata": {},
   "outputs": [],
   "source": [
    "BATCH_SIZE = 32\n",
    "LEARNING_RATE = 0.003\n",
    "EPOCHS = 50"
   ]
  },
  {
   "cell_type": "code",
   "execution_count": 16,
   "id": "bd60c6b8",
   "metadata": {},
   "outputs": [
    {
     "name": "stdout",
     "output_type": "stream",
     "text": [
      "Device: cpu\n"
     ]
    }
   ],
   "source": [
    "device = torch.device(\"cuda\" if torch.cuda.is_available() else \"cpu\")\n",
    "print(f\"Device: {device}\")"
   ]
  },
  {
   "cell_type": "code",
   "execution_count": 19,
   "id": "0b2d9911",
   "metadata": {},
   "outputs": [],
   "source": [
    "train_x = torch.from_numpy(X_train).to(torch.float32)\n",
    "train_y = torch.from_numpy(y_train).to(torch.float32)"
   ]
  },
  {
   "cell_type": "code",
   "execution_count": 63,
   "id": "3ac71499",
   "metadata": {},
   "outputs": [
    {
     "name": "stdout",
     "output_type": "stream",
     "text": [
      "0.04494380954546584 0.989\n"
     ]
    }
   ],
   "source": [
    "test_x = torch.from_numpy(X_test).to(torch.float32)\n",
    "test_y = torch.from_numpy(y_test).to(torch.float32)\n",
    "\n",
    "test_dataset = TensorDataset(test_x,test_y)\n",
    "test_dataloader = DataLoader(test_dataset, batch_size=1)\n",
    "\n",
    "test_loss = 0\n",
    "test_accuracy = 0\n",
    "for test_inputs, test_targets in test_dataloader:\n",
    "    test_outputs = model(test_inputs)\n",
    "    test_loss += loss_function(test_outputs, test_targets.unsqueeze(1)).item() * len(test_inputs)\n",
    "    test_accuracy += (test_outputs.round() == test_targets.unsqueeze(1)).sum().item()\n",
    "\n",
    "test_loss /= len(test_dataset)\n",
    "test_accuracy /= len(test_dataset)\n",
    "print(test_loss, test_accuracy)\n"
   ]
  },
  {
   "cell_type": "code",
   "execution_count": 39,
   "id": "1d165903",
   "metadata": {},
   "outputs": [],
   "source": [
    "train_x.shape, train_y.shape\n",
    "\n",
    "train_dataset = TensorDataset(train_x, train_y)\n",
    "train_dataloader = DataLoader(train_dataset, batch_size=BATCH_SIZE, shuffle=True)\n",
    "data=train_dataset\n",
    "data=train_dataloader"
   ]
  },
  {
   "cell_type": "code",
   "execution_count": 40,
   "id": "d222dde9",
   "metadata": {},
   "outputs": [],
   "source": [
    "class Model(torch.nn.Module):\n",
    "    def __init__(self):\n",
    "        super(Model, self).__init__()\n",
    "    \n",
    "        self.layer1 = torch.nn.Linear(11, 16)\n",
    "        self.layer2 = torch.nn.Linear(16, 1)\n",
    "        self.sigmoid = torch.nn.Sigmoid()\n",
    "        self.relu = torch.nn.ReLU()\n",
    "    \n",
    "    def forward(self, x):\n",
    "        x = self.layer1(x)\n",
    "        x = self.relu(x)\n",
    "        x = self.layer2(x)\n",
    "        x = self.sigmoid(x)\n",
    "        return x"
   ]
  },
  {
   "cell_type": "code",
   "execution_count": 41,
   "id": "12a00737",
   "metadata": {},
   "outputs": [
    {
     "name": "stdout",
     "output_type": "stream",
     "text": [
      "Model(\n",
      "  (layer1): Linear(in_features=11, out_features=16, bias=True)\n",
      "  (layer2): Linear(in_features=16, out_features=1, bias=True)\n",
      "  (sigmoid): Sigmoid()\n",
      "  (relu): ReLU()\n",
      ")\n"
     ]
    }
   ],
   "source": [
    "model = Model()\n",
    "model.to(device)\n",
    "print(model)"
   ]
  },
  {
   "cell_type": "code",
   "execution_count": 42,
   "id": "ac5f759c",
   "metadata": {},
   "outputs": [],
   "source": [
    "loss_function = torch.nn.BCELoss()\n",
    "optimizer = torch.optim.Adam(model.parameters(), lr=LEARNING_RATE)"
   ]
  },
  {
   "cell_type": "code",
   "execution_count": 45,
   "id": "d1b8f9c6",
   "metadata": {},
   "outputs": [
    {
     "name": "stdout",
     "output_type": "stream",
     "text": [
      "Epoch 1: Training Loss: 0.1093, Training Accuracy: 0.9620, Validation Loss: 0.0985, Validation Accuracy: 0.9647\n",
      "Epoch 2: Training Loss: 0.0937, Training Accuracy: 0.9673, Validation Loss: 0.0872, Validation Accuracy: 0.9698\n",
      "Epoch 3: Training Loss: 0.0853, Training Accuracy: 0.9712, Validation Loss: 0.0805, Validation Accuracy: 0.9732\n",
      "Epoch 4: Training Loss: 0.0796, Training Accuracy: 0.9722, Validation Loss: 0.0756, Validation Accuracy: 0.9738\n",
      "Epoch 5: Training Loss: 0.0761, Training Accuracy: 0.9735, Validation Loss: 0.0725, Validation Accuracy: 0.9755\n",
      "Epoch 6: Training Loss: 0.0733, Training Accuracy: 0.9750, Validation Loss: 0.0699, Validation Accuracy: 0.9758\n",
      "Epoch 7: Training Loss: 0.0705, Training Accuracy: 0.9755, Validation Loss: 0.0688, Validation Accuracy: 0.9772\n",
      "Epoch 8: Training Loss: 0.0692, Training Accuracy: 0.9770, Validation Loss: 0.0667, Validation Accuracy: 0.9755\n",
      "Epoch 9: Training Loss: 0.0674, Training Accuracy: 0.9765, Validation Loss: 0.0649, Validation Accuracy: 0.9772\n",
      "Epoch 10: Training Loss: 0.0664, Training Accuracy: 0.9772, Validation Loss: 0.0631, Validation Accuracy: 0.9780\n",
      "Epoch 11: Training Loss: 0.0647, Training Accuracy: 0.9775, Validation Loss: 0.0619, Validation Accuracy: 0.9790\n",
      "Epoch 12: Training Loss: 0.0633, Training Accuracy: 0.9770, Validation Loss: 0.0612, Validation Accuracy: 0.9782\n",
      "Epoch 13: Training Loss: 0.0625, Training Accuracy: 0.9770, Validation Loss: 0.0592, Validation Accuracy: 0.9795\n",
      "Epoch 14: Training Loss: 0.0606, Training Accuracy: 0.9785, Validation Loss: 0.0589, Validation Accuracy: 0.9810\n",
      "Epoch 15: Training Loss: 0.0603, Training Accuracy: 0.9788, Validation Loss: 0.0575, Validation Accuracy: 0.9798\n",
      "Epoch 16: Training Loss: 0.0592, Training Accuracy: 0.9788, Validation Loss: 0.0571, Validation Accuracy: 0.9795\n",
      "Epoch 17: Training Loss: 0.0586, Training Accuracy: 0.9795, Validation Loss: 0.0556, Validation Accuracy: 0.9805\n",
      "Epoch 18: Training Loss: 0.0571, Training Accuracy: 0.9795, Validation Loss: 0.0550, Validation Accuracy: 0.9812\n",
      "Epoch 19: Training Loss: 0.0567, Training Accuracy: 0.9798, Validation Loss: 0.0537, Validation Accuracy: 0.9812\n",
      "Epoch 20: Training Loss: 0.0550, Training Accuracy: 0.9805, Validation Loss: 0.0531, Validation Accuracy: 0.9820\n",
      "Epoch 21: Training Loss: 0.0546, Training Accuracy: 0.9815, Validation Loss: 0.0531, Validation Accuracy: 0.9805\n",
      "Epoch 22: Training Loss: 0.0547, Training Accuracy: 0.9798, Validation Loss: 0.0520, Validation Accuracy: 0.9825\n",
      "Epoch 23: Training Loss: 0.0539, Training Accuracy: 0.9808, Validation Loss: 0.0513, Validation Accuracy: 0.9815\n",
      "Epoch 24: Training Loss: 0.0530, Training Accuracy: 0.9805, Validation Loss: 0.0510, Validation Accuracy: 0.9812\n",
      "Epoch 25: Training Loss: 0.0531, Training Accuracy: 0.9815, Validation Loss: 0.0508, Validation Accuracy: 0.9820\n",
      "Epoch 26: Training Loss: 0.0527, Training Accuracy: 0.9815, Validation Loss: 0.0495, Validation Accuracy: 0.9828\n",
      "Epoch 27: Training Loss: 0.0515, Training Accuracy: 0.9812, Validation Loss: 0.0494, Validation Accuracy: 0.9810\n",
      "Epoch 28: Training Loss: 0.0516, Training Accuracy: 0.9812, Validation Loss: 0.0486, Validation Accuracy: 0.9825\n",
      "Epoch 29: Training Loss: 0.0504, Training Accuracy: 0.9825, Validation Loss: 0.0484, Validation Accuracy: 0.9822\n",
      "Epoch 30: Training Loss: 0.0511, Training Accuracy: 0.9810, Validation Loss: 0.0477, Validation Accuracy: 0.9832\n",
      "Epoch 31: Training Loss: 0.0497, Training Accuracy: 0.9820, Validation Loss: 0.0472, Validation Accuracy: 0.9820\n",
      "Epoch 32: Training Loss: 0.0493, Training Accuracy: 0.9828, Validation Loss: 0.0475, Validation Accuracy: 0.9850\n",
      "Epoch 33: Training Loss: 0.0490, Training Accuracy: 0.9835, Validation Loss: 0.0463, Validation Accuracy: 0.9842\n",
      "Epoch 34: Training Loss: 0.0494, Training Accuracy: 0.9828, Validation Loss: 0.0461, Validation Accuracy: 0.9858\n",
      "Epoch 35: Training Loss: 0.0481, Training Accuracy: 0.9852, Validation Loss: 0.0469, Validation Accuracy: 0.9845\n",
      "Epoch 36: Training Loss: 0.0478, Training Accuracy: 0.9845, Validation Loss: 0.0453, Validation Accuracy: 0.9855\n",
      "Epoch 37: Training Loss: 0.0481, Training Accuracy: 0.9835, Validation Loss: 0.0448, Validation Accuracy: 0.9860\n",
      "Epoch 38: Training Loss: 0.0475, Training Accuracy: 0.9842, Validation Loss: 0.0448, Validation Accuracy: 0.9860\n",
      "Epoch 39: Training Loss: 0.0470, Training Accuracy: 0.9852, Validation Loss: 0.0442, Validation Accuracy: 0.9862\n",
      "Epoch 40: Training Loss: 0.0464, Training Accuracy: 0.9850, Validation Loss: 0.0444, Validation Accuracy: 0.9860\n",
      "Epoch 41: Training Loss: 0.0462, Training Accuracy: 0.9852, Validation Loss: 0.0434, Validation Accuracy: 0.9872\n",
      "Epoch 42: Training Loss: 0.0457, Training Accuracy: 0.9865, Validation Loss: 0.0438, Validation Accuracy: 0.9882\n",
      "Epoch 43: Training Loss: 0.0460, Training Accuracy: 0.9870, Validation Loss: 0.0435, Validation Accuracy: 0.9858\n",
      "Epoch 44: Training Loss: 0.0452, Training Accuracy: 0.9852, Validation Loss: 0.0440, Validation Accuracy: 0.9855\n",
      "Epoch 45: Training Loss: 0.0459, Training Accuracy: 0.9852, Validation Loss: 0.0430, Validation Accuracy: 0.9870\n",
      "Epoch 46: Training Loss: 0.0445, Training Accuracy: 0.9858, Validation Loss: 0.0424, Validation Accuracy: 0.9875\n",
      "Epoch 47: Training Loss: 0.0448, Training Accuracy: 0.9862, Validation Loss: 0.0427, Validation Accuracy: 0.9862\n",
      "Epoch 48: Training Loss: 0.0442, Training Accuracy: 0.9858, Validation Loss: 0.0427, Validation Accuracy: 0.9872\n",
      "Epoch 49: Training Loss: 0.0439, Training Accuracy: 0.9865, Validation Loss: 0.0418, Validation Accuracy: 0.9878\n",
      "Epoch 50: Training Loss: 0.0445, Training Accuracy: 0.9862, Validation Loss: 0.0415, Validation Accuracy: 0.9878\n"
     ]
    }
   ],
   "source": [
    "training_loss = [0]*EPOCHS\n",
    "training_accuracy = [0]*EPOCHS\n",
    "validation_loss = []\n",
    "validation_accuracy = []\n",
    "best_val_loss = np.inf\n",
    "\n",
    "for epoch in range(1, EPOCHS+1):\n",
    "    epoch_loss = 0\n",
    "    epoch_accuracy = 0\n",
    "    for batch_idx, (inputs, targets) in enumerate(data):\n",
    "        model.train()\n",
    "        optimizer.zero_grad()\n",
    "        outputs = model(inputs)\n",
    "        loss = loss_function(outputs, targets.unsqueeze(1))\n",
    "        loss.backward()\n",
    "        optimizer.step()\n",
    "        epoch_loss += loss.item() * len(inputs)\n",
    "        epoch_accuracy += (outputs.round() == targets.unsqueeze(1)).sum().item()\n",
    "        \n",
    "    epoch_loss /= len(data.dataset)\n",
    "    epoch_accuracy /= len(data.dataset)\n",
    "    \n",
    "    with torch.no_grad():\n",
    "        val_loss = 0\n",
    "        val_accuracy = 0\n",
    "        model.eval()\n",
    "        for val_inputs, val_targets in train_dataloader:\n",
    "            val_outputs = model(val_inputs)\n",
    "            val_loss += loss_function(val_outputs, val_targets.unsqueeze(1)).item() * len(val_inputs)\n",
    "            val_accuracy += (val_outputs.round() == val_targets.unsqueeze(1)).sum().item()\n",
    "        val_loss /= len(train_dataset)\n",
    "        val_accuracy /= len(train_dataset)\n",
    "    \n",
    "    training_loss.append(epoch_loss)\n",
    "    training_accuracy.append(epoch_accuracy)\n",
    "    validation_loss.append(val_loss)\n",
    "    validation_accuracy.append(val_accuracy)\n",
    "    \n",
    "    if val_loss < best_val_loss:\n",
    "        best_val_loss = val_loss\n",
    "        torch.save(model.state_dict(), 'best_model.pt')\n",
    "    \n",
    "    print(f\"Epoch {epoch}: Training Loss: {epoch_loss:.4f}, Training Accuracy: {epoch_accuracy:.4f}, Validation Loss: {val_loss:.4f}, Validation Accuracy: {val_accuracy:.4f}\")\n"
   ]
  },
  {
   "cell_type": "code",
   "execution_count": 54,
   "id": "cd3cba57",
   "metadata": {},
   "outputs": [
    {
     "name": "stdout",
     "output_type": "stream",
     "text": [
      "Epoch 10: Train Loss: 0.0416, Train Accuracy: 0.9868, Val Loss: 0.0389, Val Accuracy: 0.9890\n",
      "Epoch 20: Train Loss: 0.0409, Train Accuracy: 0.9875, Val Loss: 0.0384, Val Accuracy: 0.9872\n",
      "Epoch 30: Train Loss: 0.0400, Train Accuracy: 0.9880, Val Loss: 0.0375, Val Accuracy: 0.9892\n",
      "Epoch 40: Train Loss: 0.0387, Train Accuracy: 0.9880, Val Loss: 0.0367, Val Accuracy: 0.9875\n",
      "Epoch 50: Train Loss: 0.0383, Train Accuracy: 0.9875, Val Loss: 0.0358, Val Accuracy: 0.9882\n"
     ]
    }
   ],
   "source": [
    "training_loss = []\n",
    "training_accuracy = []\n",
    "validation_loss = []\n",
    "validation_accuracy = []\n",
    "\n",
    "for i in range(1, EPOCHS+1):\n",
    "    epoch_loss = 0\n",
    "    epoch_accuracy = 0\n",
    "    \n",
    "    # training loop\n",
    "    model.train()\n",
    "    for x_batch, y_batch in train_dataloader:\n",
    "        optimizer.zero_grad()\n",
    "        y_pred = model(x_batch)\n",
    "        loss = loss_function(y_pred, y_batch.unsqueeze(1))\n",
    "        loss.backward()\n",
    "        optimizer.step()\n",
    "        epoch_loss += loss.item() * len(x_batch)\n",
    "        epoch_accuracy += (torch.round(y_pred) == y_batch.unsqueeze(1)).sum().item()\n",
    "    epoch_loss /= len(train_dataset)\n",
    "    epoch_accuracy /= len(train_dataset)\n",
    "    training_loss.append(epoch_loss)\n",
    "    training_accuracy.append(epoch_accuracy)\n",
    "    \n",
    "    # validation loop\n",
    "    with torch.no_grad():\n",
    "        model.eval()\n",
    "        val_loss = 0\n",
    "        val_accuracy = 0\n",
    "        for val_inputs, val_targets in train_dataloader:\n",
    "            val_outputs = model(val_inputs)\n",
    "            val_loss += loss_function(val_outputs, val_targets.unsqueeze(1)).item() * len(val_inputs)\n",
    "            val_accuracy += (torch.round(val_outputs) == val_targets.unsqueeze(1)).sum().item()\n",
    "        val_loss /= len(train_dataset)\n",
    "        val_accuracy /= len(train_dataset)\n",
    "        validation_loss.append(val_loss)\n",
    "        validation_accuracy.append(val_accuracy)\n",
    "    \n",
    "    if i % 10 == 0:\n",
    "        print(f\"Epoch {i}: Train Loss: {epoch_loss:.4f}, Train Accuracy: {epoch_accuracy:.4f}, Val Loss: {val_loss:.4f}, Val Accuracy: {val_accuracy:.4f}\")\n"
   ]
  },
  {
   "cell_type": "code",
   "execution_count": 65,
   "id": "ecf95097",
   "metadata": {},
   "outputs": [
    {
     "name": "stdout",
     "output_type": "stream",
     "text": [
      "Test Accuracy: 0.9890\n"
     ]
    }
   ],
   "source": [
    "# testing loop\n",
    "with torch.no_grad():\n",
    "    model.eval()\n",
    "    test_loss = 0\n",
    "    test_accuracy = 0\n",
    "    for test_inputs, test_targets in test_dataloader:\n",
    "        test_outputs = model(test_inputs)\n",
    "        test_loss += loss_function(test_outputs, test_targets.unsqueeze(1)).item() * len(test_inputs)\n",
    "        test_accuracy += (torch.round(test_outputs) == test_targets.unsqueeze(1)).sum().item()\n",
    "    test_loss /= len(test_dataset)\n",
    "    test_accuracy /= len(test_dataset)\n",
    "\n",
    "print(f\"Test Accuracy: {test_accuracy:.4f}\")"
   ]
  },
  {
   "cell_type": "code",
   "execution_count": 67,
   "id": "7786ff21",
   "metadata": {},
   "outputs": [
    {
     "name": "stdout",
     "output_type": "stream",
     "text": [
      "              precision    recall  f1-score   support\n",
      "\n",
      "           0       0.99      1.00      0.99       895\n",
      "           1       0.97      0.92      0.95       105\n",
      "\n",
      "    accuracy                           0.99      1000\n",
      "   macro avg       0.98      0.96      0.97      1000\n",
      "weighted avg       0.99      0.99      0.99      1000\n",
      "\n"
     ]
    }
   ],
   "source": [
    "# classification report\n",
    "with torch.no_grad():\n",
    "    model.eval()\n",
    "    y_pred = torch.tensor([], dtype=torch.long)\n",
    "    y_true = torch.tensor([], dtype=torch.long)\n",
    "    for test_inputs, test_targets in test_dataloader:\n",
    "        test_outputs = model(test_inputs)\n",
    "        y_pred = torch.cat((y_pred, torch.round(test_outputs).flatten().long()))\n",
    "        y_true = torch.cat((y_true, test_targets.long()))\n",
    "    print(classification_report(y_true, y_pred))"
   ]
  },
  {
   "cell_type": "code",
   "execution_count": 68,
   "id": "60f33044",
   "metadata": {},
   "outputs": [],
   "source": [
    "# Accuracy \n",
    "def fitness_function(model, train_x, train_y):\n",
    "    with torch.no_grad():\n",
    "        y_pred = model(train_x)\n",
    "        y_pred = torch.where(y_pred >= 0.5, 1, 0).flatten()\n",
    "        accuracy = (y_pred == train_y).sum().float().item() / len(train_y)\n",
    "    return accuracy\n"
   ]
  },
  {
   "cell_type": "code",
   "execution_count": 69,
   "id": "dc534285",
   "metadata": {},
   "outputs": [],
   "source": [
    "import random\n",
    "import numpy as np\n",
    "\n",
    "# Accuracy \n",
    "def fitness_function(model, train_x, train_y):\n",
    "    \n",
    "    y_pred = model(train_x)\n",
    "    y_pred = torch.where(y_pred>=0.5, 1, 0).flatten()\n",
    "    accuracy = (y_pred == train_y).sum().float().item() / len(train_y)\n",
    "    \n",
    "    return accuracy\n",
    "\n",
    "# Crossover and Mutation\n",
    "def crossover_mutation(model1,model2):\n",
    "    # Shape of the weights and biases\n",
    "    shp = [i.numpy().shape for i in model1.parameters()]\n",
    "    sz = [i[0]*i[1] if len(i) == 2 else i[0] for i in shp]\n",
    "    \n",
    "    # Flattening the parameters for cross over\n",
    "    matrix_1 = np.concatenate([i.numpy().flatten() for i in model1.parameters()])\n",
    "    matrix_2 = np.concatenate([i.numpy().flatten() for i in model2.parameters()])\n",
    "    \n",
    "    # Crossover\n",
    "    start = len(matrix_1)//2 - 10\n",
    "    end = len(matrix_1)//2 + 10\n",
    "    mid_value = random.randrange(start,end)\n",
    "    \n",
    "    main_child_1 = np.concatenate([matrix_1[:mid_value], matrix_2[mid_value:]])\n",
    "    main_child_2 = np.concatenate([matrix_2[:mid_value], matrix_1[mid_value:]])\n",
    "    \n",
    "    # Child 1 Mutation\n",
    "    random_start = random.randrange(0,len(matrix_1)//2)\n",
    "    random_end = random.randrange(random_start,len(matrix_1))\n",
    "    \n",
    "    child_1_mutate = main_child_1.copy()\n",
    "    child_1_mutate[random_start:random_end] = child_1_mutate[random_start:random_end][::-1]\n",
    "    \n",
    "    # Child 2 Mutation\n",
    "    random_start = random.randrange(0,len(matrix_1)//2)\n",
    "    random_end = random.randrange(random_start,len(matrix_1))\n",
    "    \n",
    "    child_2_mutate = main_child_2.copy()\n",
    "    child_2_mutate[random_start:random_end] = child_2_mutate[random_start:random_end][::-1]\n",
    "    \n",
    "    # Converting the array to parameters\n",
    "    children = [main_child_1, main_child_2, child_1_mutate, child_2_mutate]\n",
    "    output = list()\n",
    "    \n",
    "    for child in children:\n",
    "        param = list()\n",
    "        cum_sum = 0\n",
    "        for i in range(len(sz)):\n",
    "            array = child[cum_sum : cum_sum + sz[i]]\n",
    "            array = array.reshape(shp[i])\n",
    "            cum_sum += sz[i]\n",
    "            param.append(array)\n",
    "        param = np.array(param, dtype=\"object\")\n",
    "        output.append(param)\n",
    "    \n",
    "    output = np.array(output, dtype=\"object\")\n",
    "    return output\n"
   ]
  },
  {
   "cell_type": "code",
   "execution_count": 93,
   "id": "ea1da691",
   "metadata": {},
   "outputs": [],
   "source": [
    "torch.manual_seed(420)\n",
    "torch.set_grad_enabled(False)\n",
    "population_size = 10\n",
    "\n",
    "class Model:\n",
    "    def __init__(self):\n",
    "        self.layers = [torch.randn(10, 10), torch.randn(10)]\n",
    "        \n",
    "    def forward(self, x):\n",
    "        out = self.linear1(x)\n",
    "        out = self.sigmoid(out)\n",
    "        out = self.linear2(out)\n",
    "        out = self.sigmoid(out)\n",
    "        return out\n",
    "\n",
    "    def parameters(self):\n",
    "        return self.layers\n",
    "\n",
    "def fitness_function(model):\n",
    "    x = torch.randn(100)\n",
    "    y = torch.randn(1)\n",
    "    output = torch.matmul(x.reshape(1, -1), torch.randn(100, 1)) + y\n",
    "    return torch.mean(output)\n",
    "\n",
    "\n",
    "def crossover_mutation(model1, model2):\n",
    "    output1 = []\n",
    "    output2 = []\n",
    "\n",
    "    for layer1, layer2 in zip(model1.parameters(), model2.parameters()):\n",
    "        shape = layer1.shape\n",
    "        if len(shape) == 0:\n",
    "            output1.append(layer1)\n",
    "            output2.append(layer2)\n",
    "            continue\n",
    "        crossover_point = np.random.randint(0, shape[0])\n",
    "        output1.append(torch.cat([layer1[:crossover_point], layer2[crossover_point:]]))\n",
    "        output2.append(torch.cat([layer2[:crossover_point], layer1[crossover_point:]]))\n",
    "\n",
    "    # Mutation\n",
    "    for index, layer in enumerate(output1):\n",
    "        mutation_probability = np.random.uniform(0, 1)\n",
    "        if mutation_probability > 0.5:\n",
    "            shape = layer.shape\n",
    "            if len(shape) == 0:\n",
    "                continue\n",
    "            mutation_point = np.random.randint(0, shape[0])\n",
    "            output1[index][mutation_point] += np.random.normal(0, 0.1, size=(1,))\n",
    "\n",
    "    for index, layer in enumerate(output2):\n",
    "        mutation_probability = np.random.uniform(0, 1)\n",
    "        if mutation_probability > 0.5:\n",
    "            shape = layer.shape\n",
    "            if len(shape) == 0:\n",
    "                continue\n",
    "            mutation_point = np.random.randint(0, shape[0])\n",
    "            output2[index][mutation_point] += np.random.normal(0, 0.1, size=(1,))\n",
    "\n",
    "    return output1, output2\n",
    "\n",
    "\n",
    "def train(no):\n",
    "    # Initial Population\n",
    "    population = [Model() for _ in range(population_size)]\n",
    "\n",
    "    best_model = None\n",
    "\n",
    "    for loop in range(no):\n",
    "        # Sort population based on fitness function\n",
    "        population = sorted(population, key=fitness_function)\n",
    "\n",
    "        # Printing Max Accuracy\n",
    "        best_model = population[-1]\n",
    "        print(f\"Gen {loop+1}: {fitness_function(population[-1])}\")\n",
    "\n",
    "        # Parent Selection\n",
    "        parent_max_1 = population[-1]\n",
    "        parent_max_2 = population[-2]\n",
    "        parent_max_3 = population[-3]\n",
    "        parent_max_4 = population[-4] \n",
    "        parent_1 = population[0]\n",
    "        parent_2 = population[1]\n",
    "\n",
    "        # Crossover\n",
    "        output_1 = crossover_mutation(parent_max_1, parent_max_3)\n",
    "        output_2 = crossover_mutation(parent_max_2, parent_max_4)\n",
    "        output = np.concatenate([output_1, output_2])\n",
    "\n",
    "        # New population\n",
    "        new_population = [Model() for _ in range(len(output))]\n",
    "        for count, model in enumerate(new_population):\n",
    "            for index, param in enumerate(model.parameters()):\n",
    "                param.data = torch.tensor(output[count][index])\n",
    "\n",
    "        # Add Poor performing parent to the new population\n",
    "        new_population += [parent_1, parent_2]\n",
    "\n",
    "        # New population becomes your next population\n",
    "        population = new_population\n",
    "\n",
    "    return best_model\n",
    "\n"
   ]
  },
  {
   "cell_type": "code",
   "execution_count": 94,
   "id": "f9e75a35",
   "metadata": {},
   "outputs": [
    {
     "name": "stdout",
     "output_type": "stream",
     "text": [
      "Gen 1: -9.367940902709961\n",
      "Gen 2: 15.299262046813965\n",
      "Gen 3: 1.8722236156463623\n",
      "Gen 4: 0.25427961349487305\n",
      "Gen 5: -3.3113584518432617\n",
      "Gen 6: -13.185609817504883\n",
      "Gen 7: -9.864635467529297\n",
      "Gen 8: 2.79742693901062\n",
      "Gen 9: 18.158798217773438\n",
      "Gen 10: 0.38349276781082153\n"
     ]
    },
    {
     "name": "stderr",
     "output_type": "stream",
     "text": [
      "C:\\Users\\sanja\\AppData\\Local\\Temp/ipykernel_316/3594261015.py:93: UserWarning: To copy construct from a tensor, it is recommended to use sourceTensor.clone().detach() or sourceTensor.clone().detach().requires_grad_(True), rather than torch.tensor(sourceTensor).\n",
      "  param.data = torch.tensor(output[count][index])\n"
     ]
    }
   ],
   "source": [
    "best_model = train(10)"
   ]
  },
  {
   "cell_type": "code",
   "execution_count": null,
   "id": "36b6f226",
   "metadata": {},
   "outputs": [],
   "source": []
  }
 ],
 "metadata": {
  "kernelspec": {
   "display_name": "Python 3 (ipykernel)",
   "language": "python",
   "name": "python3"
  },
  "language_info": {
   "codemirror_mode": {
    "name": "ipython",
    "version": 3
   },
   "file_extension": ".py",
   "mimetype": "text/x-python",
   "name": "python",
   "nbconvert_exporter": "python",
   "pygments_lexer": "ipython3",
   "version": "3.9.7"
  }
 },
 "nbformat": 4,
 "nbformat_minor": 5
}
